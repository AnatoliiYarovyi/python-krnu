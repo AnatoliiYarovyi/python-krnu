{
 "cells": [
  {
   "cell_type": "markdown",
   "metadata": {},
   "source": [
    "---\n",
    "title: \"Лабораторна робота №1. Інсталяція та налаштування Python-середовища\"\n",
    "date: \"17.09.2023\"\n",
    "lang: ukr\n",
    "format:\n",
    "  pdf:\n",
    "    code-fold: true\n",
    "    toc: true # меню\n",
    "    toc_float: # спливаюче меню  \n",
    "      collapsed: true # авто\n",
    "      number_sections: true\n",
    "jupyter: python3\n",
    "---"
   ]
  },
  {
   "cell_type": "markdown",
   "metadata": {},
   "source": [
    "#### Що ви будете вміти?\n",
    "* Інсталювати дистрибутив Python.\n",
    "* Інсталювати та налаштовувати IDE PyCharm.\n",
    "* Створювати Python-проєкт у PyCharm та зв'язувати його з СКВ git.\n",
    "* Писати і відлагоджувати прості програми на python у середовищі PyCharm.\n",
    "* Комітити написаний код у віддалений репозиторій на на GitHub"
   ]
  },
  {
   "cell_type": "markdown",
   "metadata": {},
   "source": [
    "## Інсталяція Python"
   ]
  },
  {
   "cell_type": "markdown",
   "metadata": {},
   "source": [
    "1. Ідемо на [офіційний сайт Python](https://www.python.org/downloads/).\n",
    "\n",
    "1. Завантажуємо та встановлюємо актуальну версію дистрибутиву Python3. \n",
    "\n",
    "1. Встановлюємо python, (бажано прийняти праметри інсталяції за замовчанням).\n",
    "\n",
    "1. Запускаємо консоль `cmd` і запускаємо python командою `python3`:"
   ]
  },
  {
   "cell_type": "markdown",
   "metadata": {},
   "source": [
    "Наступний інтерфейс взаємодії запускаємо python командою `python3`:"
   ]
  },
  {
   "cell_type": "markdown",
   "metadata": {},
   "source": [
    "![](images/consol.png)"
   ]
  },
  {
   "cell_type": "markdown",
   "metadata": {},
   "source": [
    "## Інсталяція та налаштування IDE PyCharm "
   ]
  },
  {
   "cell_type": "markdown",
   "metadata": {},
   "source": [
    "### Інсталяція"
   ]
  },
  {
   "cell_type": "markdown",
   "metadata": {},
   "source": [
    "Після встановлення інтерпретатора python завантажив, встановив і налаштував IDE PyCharm.\n",
    "\n",
    "1. Завантажив безкоштовну community версію, звернувшись за [посиланням](https://www.jetbrains.com/ru-ru/pycharm/download/#section=windows).\n",
    "\n",
    "1. Виконав інсталяцію IDE PytCharm.\n",
    "\n",
    "1. Запустити IDE PyCharm.\n"
   ]
  },
  {
   "cell_type": "markdown",
   "metadata": {},
   "source": [
    "![](images/pycharm.png)"
   ]
  },
  {
   "cell_type": "markdown",
   "metadata": {},
   "source": [
    "### Створення Python-проєкта"
   ]
  },
  {
   "cell_type": "markdown",
   "metadata": {},
   "source": [
    "Після інсталяції ми маємо три наступні можливості: \n",
    "\n",
    "* створити новий проект (New Project); \n",
    "* відкрити існуючий (Open);\n",
    "* імпортувати його віддаленого репозиторію, наприклад, з GitHub.\n",
    "\n",
    "Розглянемо перший варіант -- створимо проєкт з нуля.\n",
    "Для цього у вікні, що відкрилося, потрібно звернути увагу на наступні важливі речі:\n",
    "\n",
    "* спосіб встановлення віртуального середовища;\n",
    "* місце розташування проєкта, що створюється;\n",
    "* версію базового інтерпретатора."
   ]
  },
  {
   "cell_type": "markdown",
   "metadata": {},
   "source": [
    "![](images/newproject.png)"
   ]
  },
  {
   "cell_type": "markdown",
   "metadata": {},
   "source": [
    "## Написання та запуск коду. Налаштування PyCharm-Git-GitHub середовища "
   ]
  },
  {
   "cell_type": "markdown",
   "metadata": {},
   "source": [
    "Для ефективної, зокрема командної, роботи потрібно створений проект зв'язати з системою контроля версій (СКВ).  \n",
    "Існують різні СКВ, найбільш популярною з яких наразі є [Git](https://git-scm.com/).  \n",
    "Для того, щоби налаштувати середовище PyCharm-Git-GitHub необхідно:\n",
    "\n",
    "1. Завантажити і налаштувати СКВ Git на своєму локальному комп'ютері.\n",
    "1. Створити акаунт на ресурсі [GitHub](https://github.com/).\n",
    "1. Створити репозиторій на GitHub у своєму акаунті.\n",
    "1. Зв'язати його із створеним у PyCharm проєктом на python.  "
   ]
  },
  {
   "cell_type": "markdown",
   "metadata": {},
   "source": [
    "### Створити файл lab_1_StudentLastName.py з кодом, який виводить фразу “Привіт, Ваше Прізвище”."
   ]
  },
  {
   "cell_type": "markdown",
   "metadata": {},
   "source": [
    "![](images/lab1Code.png)"
   ]
  },
  {
   "cell_type": "markdown",
   "metadata": {},
   "source": [
    "Запустимо та отримаємо в терміналі:"
   ]
  },
  {
   "cell_type": "markdown",
   "metadata": {},
   "source": [
    "![](images/lab1Terminal.png)"
   ]
  },
  {
   "cell_type": "markdown",
   "metadata": {},
   "source": [
    "### Робота з віддаленим репозиторієм"
   ]
  },
  {
   "cell_type": "markdown",
   "metadata": {},
   "source": [
    "Будь-які зміни в проєкті можуть бути додані в індекс Git-репозиторію і закомічені у репозиторій на локальній машині. Після того копія локального репо може бути записана у віддалений репо на GitHub.\n",
    "Перелік необхідних команд Git, якщо викоростовувати для цього консоль, може бути таким:\n",
    "\n",
    "* `git status` - перевірка статусу файлів;\n",
    "\n",
    "* `git add .` - додавання всіх новостворених файлів у індекс;\n",
    "\n",
    "* `git commit -m \"коментар до коміту\"` - додавання змін у локальний Git-репозиторій;\n",
    "\n",
    "* `git push -u origin master` - відсилання поточної локальної копії Git-репо на GitHub-репозиторій.\n",
    "\n",
    "Початківці це можуть зробити простіше через меню PyCharm."
   ]
  },
  {
   "cell_type": "markdown",
   "metadata": {},
   "source": [
    "Після цього ми будемо мати налаштоване середовище для ефективного написання та відлагодження коду на Python з можливістю збереження всіх версій проєкту як у локальному Git-середовищі, так і у віддаленому на GiHub."
   ]
  },
  {
   "cell_type": "markdown",
   "metadata": {},
   "source": [
    "## Контрольні запитання\n",
    "\n",
    "1. У чому відмінність інтерпретатора від компілятора? Python -- компілятор чи інтерпретатор?\n",
    "\n",
    "1. Що таке IDE PyCharm?\n",
    "\n",
    "1. Що таке система контроля версій (СКВ) і для чого вона призначена? У чому принципова відмінність СКВ SVN та GIT?\n",
    "\n",
    "1. Що відбувається при виконанні команди `git add .`?\n",
    "\n",
    "1. Що відбувається при виконанні команди `git commit`?\n",
    "\n",
    "1. Якою Git-командою виконується розміщення локальної копії Git-репозиторію проєкта на віддаленому, що знаходиться на GitHub?"
   ]
  }
 ],
 "metadata": {
  "kernelspec": {
   "display_name": "Python 3 (ipykernel)",
   "language": "python",
   "name": "python3"
  },
  "language_info": {
   "codemirror_mode": {
    "name": "ipython",
    "version": 3
   },
   "file_extension": ".py",
   "mimetype": "text/x-python",
   "name": "python",
   "nbconvert_exporter": "python",
   "pygments_lexer": "ipython3",
   "version": "3.11.9"
  }
 },
 "nbformat": 4,
 "nbformat_minor": 4
}
